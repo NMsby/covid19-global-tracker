{
 "cells": [
  {
   "cell_type": "code",
   "id": "initial_id",
   "metadata": {
    "collapsed": true,
    "ExecuteTime": {
     "end_time": "2025-05-08T13:44:09.137228Z",
     "start_time": "2025-05-08T13:44:09.122390Z"
    }
   },
   "source": [
    "# Setup environment detection and configuration\n",
    "\n",
    "import os\n",
    "import pandas as pd\n",
    "import numpy as np\n",
    "import matplotlib.pyplot as plt\n",
    "import seaborn as sns\n",
    "from datetime import datetime\n",
    "import warnings\n",
    "warnings.filterwarnings('ignore')\n",
    "\n",
    "# Detect if running in Kaggle\n",
    "def is_kaggle():\n",
    "    return os.path.exists('/kaggle/input')\n",
    "\n",
    "# Get the correct path to project root\n",
    "def get_project_root():\n",
    "    if is_kaggle():\n",
    "        return '/kaggle'\n",
    "    else:\n",
    "        # If notebook is in notebooks/ folder, go up one level for project root\n",
    "        current_dir = os.getcwd()\n",
    "        if os.path.basename(current_dir) == 'notebooks':\n",
    "            return os.path.dirname(current_dir)  # Go up one level\n",
    "        return current_dir  # Already at root level\n",
    "\n",
    "# Set up environment-specific paths\n",
    "project_root = get_project_root()\n",
    "\n",
    "if is_kaggle():\n",
    "    # Kaggle paths\n",
    "    input_dir = '/kaggle/input'\n",
    "    working_dir = '/kaggle/working'\n",
    "    vis_dir = '/kaggle/working/visualizations'\n",
    "else:\n",
    "    # Local paths relative to project root\n",
    "    input_dir = os.path.join(project_root, 'data', 'input')\n",
    "    working_dir = os.path.join(project_root, 'data', 'working')\n",
    "    vis_dir = os.path.join(project_root, 'data', 'visualizations')\n",
    "\n",
    "# Create directories if they don't exist\n",
    "for dir_path in [input_dir, working_dir, vis_dir]:\n",
    "    if not os.path.exists(dir_path):\n",
    "        os.makedirs(dir_path)\n",
    "        print(f\"Created directory: {dir_path}\")\n",
    "\n",
    "# Display environment info\n",
    "print(f\"Running in {'Kaggle' if is_kaggle() else 'Local Jupyter'} environment\")\n",
    "print(f\"Project root: {project_root}\")\n",
    "print(f\"Input directory: {input_dir}\")\n",
    "print(f\"Working directory: {working_dir}\")\n",
    "print(f\"Visualization directory: {vis_dir}\")\n",
    "\n",
    "# Set visualization style\n",
    "sns.set_style('whitegrid')\n",
    "plt.style.use('seaborn-v0_8-whitegrid')\n",
    "plt.rcParams['figure.figsize'] = (12, 8)\n",
    "\n",
    "# Display settings\n",
    "pd.set_option('display.max_columns', None)\n",
    "pd.set_option('display.max_rows', 100)\n",
    "pd.set_option('display.float_format', '{:.2f}'.format)\n",
    "\n",
    "print(\"Setup complete. Ready to begin COVID-19 data analysis.\")"
   ],
   "outputs": [
    {
     "name": "stdout",
     "output_type": "stream",
     "text": [
      "Running in Local Jupyter environment\n",
      "Project root: C:\\Users\\nelso\\OneDrive\\Desktop\\covid19-global-tracker\n",
      "Input directory: C:\\Users\\nelso\\OneDrive\\Desktop\\covid19-global-tracker\\data\\input\n",
      "Working directory: C:\\Users\\nelso\\OneDrive\\Desktop\\covid19-global-tracker\\data\\working\n",
      "Visualization directory: C:\\Users\\nelso\\OneDrive\\Desktop\\covid19-global-tracker\\data\\visualizations\n",
      "Setup complete. Ready to begin COVID-19 data analysis.\n"
     ]
    }
   ],
   "execution_count": 1
  },
  {
   "metadata": {
    "ExecuteTime": {
     "end_time": "2025-05-08T13:46:11.115924Z",
     "start_time": "2025-05-08T13:44:09.242828Z"
    }
   },
   "cell_type": "code",
   "source": [
    "# Data Collection\n",
    "# Download data from Our World in Data COVID-19 dataset\n",
    "\n",
    "# Define file paths based on environment\n",
    "owid_csv_name = 'owid-covid-data.csv'\n",
    "output_file = os.path.join(working_dir, owid_csv_name)\n",
    "\n",
    "# Possible Kaggle dataset paths (check common Kaggle COVID dataset names)\n",
    "kaggle_possible_paths = [\n",
    "    os.path.join(input_dir, 'covid19', owid_csv_name),\n",
    "    os.path.join(input_dir, 'covid-19-data', owid_csv_name),\n",
    "    os.path.join(input_dir, 'owid-covid-data', owid_csv_name),\n",
    "    os.path.join(input_dir, 'owid-covid19-data', owid_csv_name),\n",
    "    os.path.join(input_dir, 'covid19dataset', owid_csv_name),\n",
    "    # Add more potential paths if needed\n",
    "]\n",
    "\n",
    "try:\n",
    "    # First check if dataset exists in any Kaggle input path\n",
    "    found_in_kaggle = False\n",
    "    if is_kaggle():\n",
    "        for path in kaggle_possible_paths:\n",
    "            if os.path.exists(path):\n",
    "                print(f\"Found COVID-19 data at: {path}\")\n",
    "                df = pd.read_csv(path)\n",
    "                found_in_kaggle = True\n",
    "                break\n",
    "\n",
    "    # If not found in Kaggle or not in Kaggle, try direct download\n",
    "    if not found_in_kaggle:\n",
    "        print(\"Downloading COVID-19 data from Our World in Data GitHub...\")\n",
    "        url = \"https://raw.githubusercontent.com/owid/covid-19-data/master/public/data/owid-covid-data.csv\"\n",
    "        df = pd.read_csv(url)\n",
    "\n",
    "        # Save a local copy\n",
    "        df.to_csv(output_file, index=False)\n",
    "        print(f\"Data downloaded and saved to {output_file}\")\n",
    "\n",
    "    print(f\"Data loaded successfully. Shape: {df.shape}\")\n",
    "    print(f\"Date range: {df['date'].min()} to {df['date'].max()}\")\n",
    "\n",
    "except Exception as e:\n",
    "    print(f\"Error loading data: {e}\")\n",
    "    print(\"\\nTo add this dataset to your Kaggle notebook:\")\n",
    "    print(\"1. Click 'Add data' at the top right of the notebook\")\n",
    "    print(\"2. Search for 'covid-19 dataset' or 'our world in data covid'\")\n",
    "    print(\"3. Add the dataset and run this cell again\")\n",
    "    print(\"\\nOr you can manually download from:\")\n",
    "    print(\"https://github.com/owid/covid-19-data/blob/master/public/data/owid-covid-data.csv\")"
   ],
   "id": "8c04b1adfa0e31a7",
   "outputs": [
    {
     "name": "stdout",
     "output_type": "stream",
     "text": [
      "Downloading COVID-19 data from Our World in Data GitHub...\n",
      "Data downloaded and saved to C:\\Users\\nelso\\OneDrive\\Desktop\\covid19-global-tracker\\data\\working\\owid-covid-data.csv\n",
      "Data loaded successfully. Shape: (429435, 67)\n",
      "Date range: 2020-01-01 to 2024-08-14\n"
     ]
    }
   ],
   "execution_count": 2
  }
 ],
 "metadata": {
  "kernelspec": {
   "display_name": "Python 3",
   "language": "python",
   "name": "python3"
  },
  "language_info": {
   "codemirror_mode": {
    "name": "ipython",
    "version": 2
   },
   "file_extension": ".py",
   "mimetype": "text/x-python",
   "name": "python",
   "nbconvert_exporter": "python",
   "pygments_lexer": "ipython2",
   "version": "2.7.6"
  }
 },
 "nbformat": 4,
 "nbformat_minor": 5
}
